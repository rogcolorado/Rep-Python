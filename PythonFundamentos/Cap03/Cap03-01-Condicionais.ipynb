{
 "cells": [
  {
   "cell_type": "code",
   "execution_count": null,
   "metadata": {},
   "outputs": [
    {
     "name": "stdout",
     "output_type": "stream",
     "text": [
      "Python Funciona!\n"
     ]
    }
   ],
   "source": [
    "if 5 > 2:\n",
    "    print('Python Funciona!')"
   ]
  },
  {
   "cell_type": "code",
   "execution_count": 2,
   "metadata": {},
   "outputs": [
    {
     "name": "stdout",
     "output_type": "stream",
     "text": [
      "Algo está errado!\n"
     ]
    }
   ],
   "source": [
    "if 5 < 2:\n",
    "    print('Python Funciona!')\n",
    "else:\n",
    "    print('Algo está errado!')"
   ]
  },
  {
   "cell_type": "code",
   "execution_count": 3,
   "metadata": {},
   "outputs": [
    {
     "data": {
      "text/plain": [
       "True"
      ]
     },
     "execution_count": 3,
     "metadata": {},
     "output_type": "execute_result"
    }
   ],
   "source": [
    "6 > 3"
   ]
  },
  {
   "cell_type": "code",
   "execution_count": 4,
   "metadata": {},
   "outputs": [
    {
     "data": {
      "text/plain": [
       "False"
      ]
     },
     "execution_count": 4,
     "metadata": {},
     "output_type": "execute_result"
    }
   ],
   "source": [
    "3 > 7"
   ]
  },
  {
   "cell_type": "code",
   "execution_count": 5,
   "metadata": {},
   "outputs": [
    {
     "data": {
      "text/plain": [
       "True"
      ]
     },
     "execution_count": 5,
     "metadata": {},
     "output_type": "execute_result"
    }
   ],
   "source": [
    "4 < 8"
   ]
  },
  {
   "cell_type": "code",
   "execution_count": 7,
   "metadata": {},
   "outputs": [
    {
     "data": {
      "text/plain": [
       "True"
      ]
     },
     "execution_count": 7,
     "metadata": {},
     "output_type": "execute_result"
    }
   ],
   "source": [
    "4 <= 4"
   ]
  },
  {
   "cell_type": "code",
   "execution_count": 8,
   "metadata": {},
   "outputs": [
    {
     "name": "stdout",
     "output_type": "stream",
     "text": [
      "Testando Python!\n"
     ]
    }
   ],
   "source": [
    "if (5 == 5):\n",
    "    print('Testando Python!')"
   ]
  },
  {
   "cell_type": "code",
   "execution_count": 9,
   "metadata": {},
   "outputs": [
    {
     "name": "stdout",
     "output_type": "stream",
     "text": [
      "Parece que Python Funciona!\n"
     ]
    }
   ],
   "source": [
    "if True  :\n",
    "    print('Parece que Python Funciona!')"
   ]
  },
  {
   "cell_type": "markdown",
   "metadata": {},
   "source": [
    "# Condiçoes aninhadas"
   ]
  },
  {
   "cell_type": "code",
   "execution_count": 4,
   "metadata": {},
   "outputs": [
    {
     "name": "stdout",
     "output_type": "stream",
     "text": [
      "Você já pode dirigir!\n"
     ]
    }
   ],
   "source": [
    "idade = 18\n",
    "if idade > 17:\n",
    "    print('Você já pode dirigir!')"
   ]
  },
  {
   "cell_type": "code",
   "execution_count": 6,
   "metadata": {},
   "outputs": [
    {
     "name": "stdout",
     "output_type": "stream",
     "text": [
      "Ok Bob, você pode entrar!\n"
     ]
    }
   ],
   "source": [
    "nome = 'Bob'\n",
    "if idade > 13:\n",
    "    if nome == 'Bob':\n",
    "        print('Ok Bob, você pode entrar!')\n",
    "    else:\n",
    "        print('Desculpe, você não pode entrar!')"
   ]
  },
  {
   "cell_type": "code",
   "execution_count": 7,
   "metadata": {},
   "outputs": [
    {
     "name": "stdout",
     "output_type": "stream",
     "text": [
      "Ok Bob você está autorizado a entrar !\n"
     ]
    }
   ],
   "source": [
    "idade = 13\n",
    "nome = 'Bob'\n",
    "if (idade >= 13) and (nome == 'Bob'):\n",
    "    print('Ok Bob você está autorizado a entrar !')"
   ]
  },
  {
   "cell_type": "code",
   "execution_count": 10,
   "metadata": {},
   "outputs": [
    {
     "name": "stdout",
     "output_type": "stream",
     "text": [
      "Ok Bob, você está autorizado a entrar!\n"
     ]
    }
   ],
   "source": [
    "idade = 12\n",
    "nome = 'Bob'\n",
    "if(idade >=13) or (nome == 'Bob'):\n",
    "    print('Ok Bob, você está autorizado a entrar!')"
   ]
  },
  {
   "cell_type": "markdown",
   "metadata": {},
   "source": [
    "# Elif"
   ]
  },
  {
   "cell_type": "code",
   "execution_count": 5,
   "metadata": {},
   "outputs": [
    {
     "name": "stdout",
     "output_type": "stream",
     "text": [
      "Hoje vai fazer sol!\n"
     ]
    }
   ],
   "source": [
    "dia = 'quarta'\n",
    "if dia=='terça':\n",
    "    print('Hoje vai chover')\n",
    "else:\n",
    "    print('Hoje vai fazer sol!')"
   ]
  },
  {
   "cell_type": "code",
   "execution_count": 6,
   "metadata": {},
   "outputs": [
    {
     "name": "stdout",
     "output_type": "stream",
     "text": [
      "Sem previsão do tempo para o dia de hoje!\n"
     ]
    }
   ],
   "source": [
    "if dia == 'segunda':\n",
    "    print('Hoje fará sol!')\n",
    "elif dia =='terça':\n",
    "    print('Hoje irá chover!')\n",
    "else:\n",
    "    print('Sem previsão do tempo para o dia de hoje!')\n"
   ]
  },
  {
   "cell_type": "markdown",
   "metadata": {},
   "source": [
    "# Operadores lógicos"
   ]
  },
  {
   "cell_type": "code",
   "execution_count": 2,
   "metadata": {},
   "outputs": [
    {
     "name": "stdout",
     "output_type": "stream",
     "text": [
      "Parabéns, você foi aprovado!\n"
     ]
    }
   ],
   "source": [
    "disciplina = input('Digite o nome da disciplina: ')\n",
    "nota = int(input('Digite a nota (entre 0 e 100): '))\n",
    "if disciplina == 'Geografia' and nota >= 70:\n",
    "    print('Parabéns, você foi aprovado!')\n",
    "else:\n",
    "    print('Você foi reprovado!')"
   ]
  },
  {
   "cell_type": "code",
   "execution_count": 1,
   "metadata": {},
   "outputs": [
    {
     "name": "stdout",
     "output_type": "stream",
     "text": [
      "Parabéns, você foi aprovado em Geografia com a nota78!\n"
     ]
    }
   ],
   "source": [
    "disciplina = input('Digite o nome da disciplina: ')\n",
    "nota = int(input('Digite a nota (entre 0 e 100): '))\n",
    "semestre = input('digite o semestre: ')\n",
    "if disciplina == 'Geografia' and nota >= 70 and int(semestre) !=1:\n",
    "    print('Parabéns, você foi aprovado em {} com a nota {}!'.format(disciplina, nota))\n",
    "else:\n",
    "    print('Você foi reprovado!')\n"
   ]
  },
  {
   "cell_type": "code",
   "execution_count": null,
   "metadata": {},
   "outputs": [],
   "source": []
  },
  {
   "cell_type": "raw",
   "metadata": {},
   "source": []
  }
 ],
 "metadata": {
  "kernelspec": {
   "display_name": "Python 3",
   "language": "python",
   "name": "python3"
  },
  "language_info": {
   "codemirror_mode": {
    "name": "ipython",
    "version": 3
   },
   "file_extension": ".py",
   "mimetype": "text/x-python",
   "name": "python",
   "nbconvert_exporter": "python",
   "pygments_lexer": "ipython3",
   "version": "3.6.5"
  }
 },
 "nbformat": 4,
 "nbformat_minor": 2
}
