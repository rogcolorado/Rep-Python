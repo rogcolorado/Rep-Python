{
 "cells": [
  {
   "cell_type": "code",
   "execution_count": 7,
   "metadata": {},
   "outputs": [
    {
     "name": "stdout",
     "output_type": "stream",
     "text": [
      "1\n",
      "2\n",
      "3\n",
      "4\n",
      "5\n",
      "6\n",
      "7\n",
      "8\n",
      "9\n",
      "10\n"
     ]
    }
   ],
   "source": [
    "counter = 1\n",
    "while counter <= 10:    \n",
    "    print (counter)\n",
    "    counter = counter + 1"
   ]
  },
  {
   "cell_type": "code",
   "execution_count": null,
   "metadata": {},
   "outputs": [],
   "source": []
  },
  {
   "cell_type": "code",
   "execution_count": null,
   "metadata": {},
   "outputs": [],
   "source": []
  },
  {
   "cell_type": "code",
   "execution_count": null,
   "metadata": {},
   "outputs": [],
   "source": [
    "f"
   ]
  },
  {
   "cell_type": "code",
   "execution_count": 13,
   "metadata": {},
   "outputs": [
    {
     "name": "stdout",
     "output_type": "stream",
     "text": [
      "O valor de x nessa iteração é 0\n",
      "0 ainda é menor que 10\n",
      "O valor de x nessa iteração é 1\n",
      "1 ainda é menor que 10\n",
      "O valor de x nessa iteração é 2\n",
      "2 ainda é menor que 10\n",
      "O valor de x nessa iteração é 3\n",
      "3 ainda é menor que 10\n",
      "O valor de x nessa iteração é 4\n",
      "4 ainda é menor que 10\n",
      "O valor de x nessa iteração é 5\n",
      "5 ainda é menor que 10\n",
      "O valor de x nessa iteração é 6\n",
      "6 ainda é menor que 10\n",
      "O valor de x nessa iteração é 7\n",
      "7 ainda é menor que 10\n",
      "O valor de x nessa iteração é 8\n",
      "8 ainda é menor que 10\n",
      "O valor de x nessa iteração é 9\n",
      "9 ainda é menor que 10\n",
      "O valor de x nessa iteração é 10\n",
      "10 ainda é menor que 10\n",
      "Loop concluído\n"
     ]
    }
   ],
   "source": [
    "x = 0\n",
    "while x <= 10:\n",
    "    print('O valor de x nessa iteração é {}'.format(x))\n",
    "    print('{} ainda é menor que 10'.format(x))\n",
    "    x = x + 1\n",
    "else:\n",
    "    print('Loop concluído')\n"
   ]
  },
  {
   "cell_type": "markdown",
   "metadata": {},
   "source": [
    "# Pass e Break e Continue"
   ]
  },
  {
   "cell_type": "code",
   "execution_count": 16,
   "metadata": {},
   "outputs": [
    {
     "name": "stdout",
     "output_type": "stream",
     "text": [
      "0\n",
      "1\n",
      "2\n",
      "3\n"
     ]
    }
   ],
   "source": [
    "cont = 0\n",
    "while cont < 100:\n",
    "    if cont == 4:\n",
    "        break\n",
    "    else:\n",
    "        pass\n",
    "    print(cont)\n",
    "    cont = cont + 1    "
   ]
  },
  {
   "cell_type": "code",
   "execution_count": 17,
   "metadata": {},
   "outputs": [
    {
     "name": "stdout",
     "output_type": "stream",
     "text": [
      "P\n",
      "y\n",
      "t\n",
      "o\n",
      "n\n"
     ]
    }
   ],
   "source": [
    "for i in 'Python': #pula a letra H\n",
    "    if i == 'h':\n",
    "        continue\n",
    "    print(i)"
   ]
  },
  {
   "cell_type": "markdown",
   "metadata": {},
   "source": [
    "# WHILE E FOR JUNTOS"
   ]
  },
  {
   "cell_type": "code",
   "execution_count": 19,
   "metadata": {},
   "outputs": [
    {
     "name": "stdout",
     "output_type": "stream",
     "text": [
      "2 é um número primo\n",
      "3 é um número primo\n",
      "5 é um número primo\n",
      "7 é um número primo\n",
      "11 é um número primo\n",
      "13 é um número primo\n",
      "17 é um número primo\n",
      "19 é um número primo\n",
      "23 é um número primo\n",
      "29 é um número primo\n"
     ]
    }
   ],
   "source": [
    "for i in range(2,30):\n",
    "    j = 2\n",
    "    cont = 0\n",
    "    while j < i:\n",
    "        if i % j == 0:\n",
    "            cont = 1\n",
    "            j = j + 1\n",
    "        else:\n",
    "            j = j + 1\n",
    "    if cont == 0:\n",
    "        print('{} é um número primo'.format(str(i)))\n",
    "        cont = 0\n",
    "    else:\n",
    "        cont = 0\n",
    "        "
   ]
  },
  {
   "cell_type": "code",
   "execution_count": null,
   "metadata": {},
   "outputs": [],
   "source": []
  }
 ],
 "metadata": {
  "kernelspec": {
   "display_name": "Python 3",
   "language": "python",
   "name": "python3"
  },
  "language_info": {
   "codemirror_mode": {
    "name": "ipython",
    "version": 3
   },
   "file_extension": ".py",
   "mimetype": "text/x-python",
   "name": "python",
   "nbconvert_exporter": "python",
   "pygments_lexer": "ipython3",
   "version": "3.6.5"
  }
 },
 "nbformat": 4,
 "nbformat_minor": 2
}
